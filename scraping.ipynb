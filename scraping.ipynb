{
 "cells": [
  {
   "cell_type": "code",
   "execution_count": 5,
   "metadata": {},
   "outputs": [],
   "source": [
    "from bs4 import BeautifulSoup\n",
    "from urllib.request import urlopen"
   ]
  },
  {
   "cell_type": "code",
   "execution_count": 6,
   "metadata": {},
   "outputs": [],
   "source": [
    "def get_startup_name(bs):\n",
    "    \"\"\"Extract the startup name \n",
    "\n",
    "    Args:\n",
    "        bs (string): html format scrapped\n",
    "\n",
    "    Returns:\n",
    "        string: startup name\n",
    "    \"\"\"\n",
    "    h1 = str(bs.h1.text)\n",
    "    return h1"
   ]
  },
  {
   "cell_type": "code",
   "execution_count": 7,
   "metadata": {},
   "outputs": [],
   "source": [
    "def get_about(bs):\n",
    "    \"\"\"Get about us of startup\n",
    "\n",
    "    Args:\n",
    "        bs (string): html \n",
    "\n",
    "    Returns:\n",
    "        string: startup description\n",
    "    \"\"\"\n",
    "    div = bs.findAll(\"div\", attrs={\"class\",\"pf-body\"})\n",
    "    get_div_description = div[0].find(\"li\")\n",
    "    description = get_div_description.find(\"div\", attrs={\"class\", \"item-property\"}).text\n",
    "    return description"
   ]
  },
  {
   "cell_type": "code",
   "execution_count": 8,
   "metadata": {},
   "outputs": [
    {
     "ename": "SyntaxError",
     "evalue": "incomplete input (3069233102.py, line 2)",
     "output_type": "error",
     "traceback": [
      "\u001b[1;36m  Cell \u001b[1;32mIn[8], line 2\u001b[1;36m\u001b[0m\n\u001b[1;33m    \u001b[0m\n\u001b[1;37m    ^\u001b[0m\n\u001b[1;31mSyntaxError\u001b[0m\u001b[1;31m:\u001b[0m incomplete input\n"
     ]
    }
   ],
   "source": [
    "def get_founders(bs):\n",
    "    \"\"\"Get startup's founder\n",
    "\n",
    "    Args:\n",
    "        bs (string): _description_\n",
    "\n",
    "    Returns:\n",
    "        string: startup's founder\n",
    "    \"\"\"\n",
    "    founder = \" \"\n",
    "    return founder"
   ]
  },
  {
   "cell_type": "code",
   "execution_count": null,
   "metadata": {},
   "outputs": [
    {
     "name": "stdout",
     "output_type": "stream",
     "text": [
      "\n",
      "                            Acsendo                                                                                \n",
      "Acsendo. Plataforma de gestión del talento destinada a evaluar y desarrollar el desempeño de los empleados. \n"
     ]
    }
   ],
   "source": [
    "url = 'https://startupeable.com/directorio/startups/acsendo/'\n",
    "html = urlopen(url)\n",
    "bs = BeautifulSoup(html.read(), 'html.parser')\n",
    "print(get_startup_name(bs))\n",
    "print(get_about(bs))\n"
   ]
  }
 ],
 "metadata": {
  "kernelspec": {
   "display_name": "env",
   "language": "python",
   "name": "python3"
  },
  "language_info": {
   "codemirror_mode": {
    "name": "ipython",
    "version": 3
   },
   "file_extension": ".py",
   "mimetype": "text/x-python",
   "name": "python",
   "nbconvert_exporter": "python",
   "pygments_lexer": "ipython3",
   "version": "3.11.1"
  },
  "orig_nbformat": 4,
  "vscode": {
   "interpreter": {
    "hash": "04df42d258e3e6c1bd4a4e9ee27d3cee905bb2838ef9543630bc10527098a375"
   }
  }
 },
 "nbformat": 4,
 "nbformat_minor": 2
}
