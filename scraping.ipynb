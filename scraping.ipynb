{
 "cells": [
  {
   "cell_type": "code",
   "execution_count": 43,
   "metadata": {},
   "outputs": [],
   "source": [
    "from bs4 import BeautifulSoup\n",
    "from urllib.request import urlopen"
   ]
  },
  {
   "cell_type": "code",
   "execution_count": 50,
   "metadata": {},
   "outputs": [],
   "source": [
    "def get_startup_name(bs):\n",
    "    h1 = str(bs.h1.text)\n",
    "    return h1"
   ]
  },
  {
   "cell_type": "code",
   "execution_count": 107,
   "metadata": {},
   "outputs": [],
   "source": [
    "def get_about(bs):\n",
    "    div = bs.findAll(\"div\", attrs={\"class\",\"pf-body\"})\n",
    "    get_div_description = div[0].find(\"li\")\n",
    "    description = get_div_description.find(\"div\", attrs={\"class\", \"item-property\"}).text\n",
    "    return description"
   ]
  },
  {
   "cell_type": "code",
   "execution_count": null,
   "metadata": {},
   "outputs": [],
   "source": [
    "def get_founders(bs):\n",
    "    "
   ]
  },
  {
   "cell_type": "code",
   "execution_count": 108,
   "metadata": {},
   "outputs": [
    {
     "name": "stdout",
     "output_type": "stream",
     "text": [
      "\n",
      "                            Acsendo                                                                                \n",
      "Acsendo. Plataforma de gestión del talento destinada a evaluar y desarrollar el desempeño de los empleados. \n"
     ]
    }
   ],
   "source": [
    "url = 'https://startupeable.com/directorio/startups/acsendo/'\n",
    "html = urlopen(url)\n",
    "bs = BeautifulSoup(html.read(), 'html.parser')\n",
    "print(get_startup_name(bs))\n",
    "print(get_about(bs))\n"
   ]
  }
 ],
 "metadata": {
  "kernelspec": {
   "display_name": "env",
   "language": "python",
   "name": "python3"
  },
  "language_info": {
   "codemirror_mode": {
    "name": "ipython",
    "version": 3
   },
   "file_extension": ".py",
   "mimetype": "text/x-python",
   "name": "python",
   "nbconvert_exporter": "python",
   "pygments_lexer": "ipython3",
   "version": "3.10.9 (tags/v3.10.9:1dd9be6, Dec  6 2022, 20:01:21) [MSC v.1934 64 bit (AMD64)]"
  },
  "orig_nbformat": 4,
  "vscode": {
   "interpreter": {
    "hash": "2fd4d94ed33fb89102688ccaef4ca38c0a5281cf8786a168b05f3404318f0bae"
   }
  }
 },
 "nbformat": 4,
 "nbformat_minor": 2
}
